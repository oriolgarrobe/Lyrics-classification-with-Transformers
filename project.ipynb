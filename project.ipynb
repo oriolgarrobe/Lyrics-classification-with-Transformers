{
  "nbformat": 4,
  "nbformat_minor": 0,
  "metadata": {
    "accelerator": "GPU",
    "colab": {
      "name": "project.ipynb",
      "private_outputs": true,
      "provenance": [],
      "collapsed_sections": []
    },
    "kernelspec": {
      "display_name": "Python 3",
      "language": "python",
      "name": "python3"
    },
    "language_info": {
      "codemirror_mode": {
        "name": "ipython",
        "version": 3
      },
      "file_extension": ".py",
      "mimetype": "text/x-python",
      "name": "python",
      "nbconvert_exporter": "python",
      "pygments_lexer": "ipython3",
      "version": "3.7.9"
    }
  },
  "cells": [
    {
      "cell_type": "code",
      "metadata": {
        "id": "4wu_ZXle_6tU"
      },
      "source": [
        "# Oriol\n",
        "from google.colab import drive\n",
        "drive.mount('/content/drive', force_remount = True)\n",
        "!cp \"/content/drive/My Drive/Colab Notebooks/NLP/data/archive.zip\" .\n",
        "!cp \"/content/drive/My Drive/Colab Notebooks/NLP/helper_functions.py\" ."
      ],
      "execution_count": null,
      "outputs": []
    },
    {
      "cell_type": "code",
      "metadata": {
        "id": "i8X2gMBuDd4c"
      },
      "source": [
        "# Import Transformers\n",
        "!pip install --upgrade transformers\n",
        "!pip install simpletransformers"
      ],
      "execution_count": null,
      "outputs": []
    },
    {
      "cell_type": "code",
      "metadata": {
        "id": "KzOjwqWmDiGc"
      },
      "source": [
        "# Import Libraries\n",
        "import logging\n",
        "import numpy as np\n",
        "import pandas as pd\n",
        "import zipfile\n",
        "from sklearn.metrics import f1_score, accuracy_score\n",
        "from sklearn.model_selection import train_test_split\n",
        "from simpletransformers.classification import ClassificationModel, ClassificationArgs, MultiLabelClassificationModel"
      ],
      "execution_count": null,
      "outputs": []
    },
    {
      "cell_type": "code",
      "metadata": {
        "id": "EgyhnaDtnLIA"
      },
      "source": [
        "# Loading data to a pandas dataframe\n",
        "with zipfile.ZipFile('archive.zip') as myJson:\n",
        "    with myJson.open('News_Category_Dataset_v2.json') as z:\n",
        "        data = pd.read_json(z, lines=True)"
      ],
      "execution_count": null,
      "outputs": []
    },
    {
      "cell_type": "code",
      "metadata": {
        "id": "aQbC5JUA1YII"
      },
      "source": [
        "from helper_functions import preprocess\n",
        "df,_ = preprocess(data)\n",
        "df.head(20)"
      ],
      "execution_count": null,
      "outputs": []
    },
    {
      "cell_type": "code",
      "metadata": {
        "id": "-db8sRHUBTKx"
      },
      "source": [
        "# Split train and test\n",
        "train_df, test_df = train_test_split(df, test_size=0.2, stratify=df['label'])\n",
        "\n",
        "# Split train and validation\n",
        "train_df, eval_df = train_test_split(train_df, test_size=0.2, stratify=train_df['label'])\n",
        "\n",
        "print(train_df.shape)\n",
        "print(eval_df.shape)\n",
        "print(test_df.shape)"
      ],
      "execution_count": null,
      "outputs": []
    },
    {
      "cell_type": "markdown",
      "metadata": {
        "id": "UehaF1qCWAx-"
      },
      "source": [
        ""
      ]
    },
    {
      "cell_type": "code",
      "metadata": {
        "id": "4wt_yH8wFmeo"
      },
      "source": [
        "# Model Arguments - \n",
        "model_args = ClassificationArgs()\n",
        "model_args.manual_seed = 42\n",
        "model_args.overwrite_output_dir = True\n",
        "model_args.reprocess_input_data = True\n",
        "model_args.use_multiprocessing = True\n",
        "model_args.learning_rate = 4e-4\n",
        "model_args.num_train_epochs = 1\n",
        "\n",
        "# Model \n",
        "model = ClassificationModel(model_type='bert', model_name='bert-base-cased', use_cuda=True, num_labels=6, args=model_args)"
      ],
      "execution_count": null,
      "outputs": []
    },
    {
      "cell_type": "code",
      "metadata": {
        "id": "xmJkEiVPHHdn"
      },
      "source": [
        "# Train the model\n",
        "model.train_model(train_df)"
      ],
      "execution_count": null,
      "outputs": []
    },
    {
      "cell_type": "code",
      "metadata": {
        "id": "qfs8m--3VH-e"
      },
      "source": [
        "from sklearn.metrics import f1_score, accuracy_score, recall_score\n",
        "\n",
        "def f1_multiclass(labels, preds):\n",
        "    return f1_score(labels, preds, average='macro')\n",
        "\n",
        "def recall_multiclass(labels, preds):\n",
        "    return recall_score(labels, preds, average='macro')\n",
        "\n",
        "result, _, _ = model.eval_model(test_df, f1=f1_multiclass, acc=accuracy_score, rec=recall_multiclass)"
      ],
      "execution_count": null,
      "outputs": []
    },
    {
      "cell_type": "code",
      "metadata": {
        "id": "J3jhtbYlWLir"
      },
      "source": [
        "print(result)"
      ],
      "execution_count": null,
      "outputs": []
    }
  ]
}