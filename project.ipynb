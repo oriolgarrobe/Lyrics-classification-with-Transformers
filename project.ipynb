{
 "cells": [
  {
   "cell_type": "code",
   "execution_count": null,
   "metadata": {
    "id": "4wu_ZXle_6tU"
   },
   "outputs": [],
   "source": [
    "# Oriol\n",
    "from google.colab import drive\n",
    "drive.mount('/content/drive')\n",
    "!cp \"/content/drive/My Drive/Colab Notebooks/NLP/data/spotify_songs.csv.zip\" ."
   ]
  },
  {
   "cell_type": "code",
   "execution_count": null,
   "metadata": {
    "id": "i8X2gMBuDd4c"
   },
   "outputs": [],
   "source": [
    "# Import Transformers\n",
    "!pip install --upgrade transformers\n",
    "!pip install simpletransformers"
   ]
  },
  {
   "cell_type": "code",
   "execution_count": null,
   "metadata": {
    "id": "KzOjwqWmDiGc"
   },
   "outputs": [],
   "source": [
    "# Import Libraries\n",
    "import numpy as np\n",
    "import pandas as pd\n",
    "import zipfile\n",
    "from sklearn.metrics import f1_score\n",
    "from sklearn.model_selection import train_test_split\n",
    "from simpletransformers.classification import ClassificationModel, ClassificationArgs, MultiLabelClassificationModel"
   ]
  },
  {
   "cell_type": "code",
   "execution_count": null,
   "metadata": {
    "id": "nBDdtVaE_5w8"
   },
   "outputs": [],
   "source": [
    "\n",
    "# Loading data to a pandas dataframe\n",
    "#with zipfile.ZipFile('data/spotify_songs.csv.zip') as zip:\n",
    "with zipfile.ZipFile('spotify_songs.csv.zip') as zip:\n",
    "    with zip.open('spotify_songs.csv') as myZip:\n",
    "        df = pd.read_csv(myZip) "
   ]
  },
  {
   "cell_type": "code",
   "execution_count": null,
   "metadata": {
    "id": "dzK1bEDu_5xC"
   },
   "outputs": [],
   "source": [
    "# Data preprocessing\n",
    "\n",
    "# Filter English songs\n",
    "df = df.loc[df['language'] == 'en']\n",
    "\n",
    "# Filter relevant columns\n",
    "#df = df[['track_id', 'track_name', 'track_artist', 'lyrics', 'track_album_name', 'playlist_genre']]\n",
    "df = df[['lyrics', 'playlist_genre']]\n",
    "\n",
    "# Change column names for model\n",
    "df = df.rename(columns={'lyrics': 'text', 'playlist_genre': 'label'})\n",
    "\n",
    "df.head()"
   ]
  },
  {
   "cell_type": "code",
   "execution_count": null,
   "metadata": {
    "id": "j_mH7ioDLEtf"
   },
   "outputs": [],
   "source": [
    "df['label'] = pd.factorize(df['label'])[0]\n",
    "df.head(n = 20)"
   ]
  },
  {
   "cell_type": "code",
   "execution_count": null,
   "metadata": {
    "id": "1QpzyB9W_5xG"
   },
   "outputs": [],
   "source": [
    "df.head()"
   ]
  },
  {
   "cell_type": "code",
   "execution_count": null,
   "metadata": {
    "id": "-db8sRHUBTKx"
   },
   "outputs": [],
   "source": [
    "# Split train and test\n",
    "train_df, test_df = train_test_split(df, test_size=0.2, stratify=df['label'])\n",
    "\n",
    "# Split train and validation\n",
    "train_df, validation_df = train_test_split(train_df, test_size=0.2, stratify=train_df['label'])\n",
    "\n",
    "print(train_df.shape)\n",
    "print(validation_df.shape)\n",
    "print(test_df.shape)"
   ]
  },
  {
   "cell_type": "code",
   "execution_count": null,
   "metadata": {
    "id": "rK__OqTTGyvf"
   },
   "outputs": [],
   "source": [
    "df['label'].unique()\n",
    "train_df['label'].unique()"
   ]
  },
  {
   "cell_type": "code",
   "execution_count": null,
   "metadata": {
    "id": "4wt_yH8wFmeo"
   },
   "outputs": [],
   "source": [
    "# Model Arguments\n",
    "model_args = ClassificationArgs(num_train_epochs=1, overwrite_output_dir=True, manual_seed=42, reprocess_input_data = True)\n",
    "\n",
    "# Model \n",
    "model = ClassificationModel(model_type='roberta', model_name='roberta-base', use_cuda=True, num_labels=6, args=model_args)\n",
    "#model = MultiLabelClassificationModel('roberta', 'roberta-base', args={'reprocess_input_data': True})"
   ]
  },
  {
   "cell_type": "code",
   "execution_count": null,
   "metadata": {
    "id": "xmJkEiVPHHdn"
   },
   "outputs": [],
   "source": [
    "# Train the model\n",
    "model.train_model(train_df)"
   ]
  },
  {
   "cell_type": "code",
   "execution_count": null,
   "metadata": {
    "id": "4H6sCxVAUhlg"
   },
   "outputs": [],
   "source": [
    "result, model_outputs, wrong_preds = model.eval_model(validation_df)"
   ]
  },
  {
   "cell_type": "code",
   "execution_count": null,
   "metadata": {
    "id": "qfs8m--3VH-e"
   },
   "outputs": [],
   "source": [
    "from sklearn.metrics import f1_score, accuracy_score\n",
    "\n",
    "def f1_multiclass(labels, preds):\n",
    "    return f1_score(labels, preds, average='micro')\n",
    "\n",
    "result, model_outputs, wrong_predictions = model.eval_model(validation_df, f1=f1_multiclass, acc=accuracy_score)"
   ]
  },
  {
   "cell_type": "code",
   "execution_count": null,
   "metadata": {
    "id": "J3jhtbYlWLir"
   },
   "outputs": [],
   "source": [
    "print(result)"
   ]
  },
  {
   "cell_type": "code",
   "execution_count": null,
   "metadata": {
    "id": "cyIGOIX6WRfI"
   },
   "outputs": [],
   "source": [
    "predictions, raw_outputs = model.predict(['I love rock n roll'])"
   ]
  },
  {
   "cell_type": "code",
   "execution_count": null,
   "metadata": {
    "id": "n8q0pVKZWiha"
   },
   "outputs": [],
   "source": [
    "predictions"
   ]
  },
  {
   "cell_type": "code",
   "execution_count": null,
   "metadata": {
    "id": "U-l9m3bXXQuu"
   },
   "outputs": [],
   "source": []
  },
  {
   "cell_type": "code",
   "execution_count": null,
   "metadata": {
    "id": "XoxfeAjzXRJD"
   },
   "outputs": [],
   "source": []
  }
 ],
 "metadata": {
  "accelerator": "GPU",
  "colab": {
   "collapsed_sections": [],
   "name": "project.ipynb",
   "private_outputs": true,
   "provenance": []
  },
  "kernelspec": {
   "display_name": "Python 3",
   "language": "python",
   "name": "python3"
  },
  "language_info": {
   "codemirror_mode": {
    "name": "ipython",
    "version": 3
   },
   "file_extension": ".py",
   "mimetype": "text/x-python",
   "name": "python",
   "nbconvert_exporter": "python",
   "pygments_lexer": "ipython3",
   "version": "3.7.6"
  }
 },
 "nbformat": 4,
 "nbformat_minor": 1
}
