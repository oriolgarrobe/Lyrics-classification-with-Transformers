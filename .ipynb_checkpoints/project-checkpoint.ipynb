{
 "cells": [
  {
   "cell_type": "code",
   "execution_count": null,
   "metadata": {
    "id": "4wu_ZXle_6tU"
   },
   "outputs": [],
   "source": [
    "# Oriol\n",
    "from google.colab import drive\n",
    "drive.mount('/content/drive', force_remount = True)\n",
    "!cp \"/content/drive/My Drive/Colab Notebooks/NLP/data/spotify_songs.csv.zip\" .\n",
    "!cp \"/content/drive/My Drive/Colab Notebooks/NLP/helper_functions.py\" ."
   ]
  },
  {
   "cell_type": "code",
   "execution_count": null,
   "metadata": {
    "id": "i8X2gMBuDd4c"
   },
   "outputs": [],
   "source": [
    "# Import Transformers\n",
    "!pip install --upgrade transformers\n",
    "!pip install simpletransformers"
   ]
  },
  {
   "cell_type": "code",
   "execution_count": null,
   "metadata": {
    "id": "Nzl71tTfrhZL"
   },
   "outputs": [],
   "source": [
    "# Install Weights and Biases library for hyperparameter optimization\n",
    "!pip install wandb"
   ]
  },
  {
   "cell_type": "code",
   "execution_count": null,
   "metadata": {
    "id": "KzOjwqWmDiGc"
   },
   "outputs": [],
   "source": [
    "# Import Libraries\n",
    "import logging\n",
    "import numpy as np\n",
    "import pandas as pd\n",
    "import zipfile\n",
    "from sklearn.metrics import f1_score, accuracy_score\n",
    "from sklearn.model_selection import train_test_split\n",
    "from simpletransformers.classification import ClassificationModel, ClassificationArgs, MultiLabelClassificationModel\n",
    "import wandb # weights and biases"
   ]
  },
  {
   "cell_type": "code",
   "execution_count": null,
   "metadata": {
    "id": "nBDdtVaE_5w8"
   },
   "outputs": [],
   "source": [
    "\n",
    "# Loading data to a pandas dataframe\n",
    "#with zipfile.ZipFile('data/spotify_songs.csv.zip') as zip:\n",
    "with zipfile.ZipFile('spotify_songs.csv.zip') as zip:\n",
    "    with zip.open('spotify_songs.csv') as myZip:\n",
    "        data = pd.read_csv(myZip) "
   ]
  },
  {
   "cell_type": "code",
   "execution_count": null,
   "metadata": {
    "id": "aQbC5JUA1YII"
   },
   "outputs": [],
   "source": [
    "from helper_functions import preprocess\n",
    "df = preprocess(data)\n",
    "df.head()"
   ]
  },
  {
   "cell_type": "code",
   "execution_count": null,
   "metadata": {
    "id": "-db8sRHUBTKx"
   },
   "outputs": [],
   "source": [
    "# Split train and test\n",
    "train_df, test_df = train_test_split(df, test_size=0.2, stratify=df['label'])\n",
    "\n",
    "# Split train and validation\n",
    "train_df, eval_df = train_test_split(train_df, test_size=0.2, stratify=train_df['label'])\n",
    "\n",
    "print(train_df.shape)\n",
    "print(eval_df.shape)\n",
    "print(test_df.shape)"
   ]
  },
  {
   "cell_type": "code",
   "execution_count": null,
   "metadata": {
    "id": "GGJFeVDYxpUz"
   },
   "outputs": [],
   "source": [
    "# Hyperparemters to optimize - Sweep configuration\n",
    "sweep_config = {\n",
    "    \"name\": \"optim param\",\n",
    "    \"method\": \"bayes\",\n",
    "    \"metric\": {\"name\": \"f1\", \"goal\": \"maximize\"},\n",
    "    \"parameters\": {\n",
    "        \"num_train_epochs\": {\"min\": 1, \"max\": 15},\n",
    "        \"learning_rate\": {\"min\": 0, \"max\": 4e-4},\n",
    "        \"train_batch_size\": {\"values\":[8, 12, 16]},\n",
    "    },\n",
    "    \"early_terminate\": {\"type\": \"hyperband\", \"min_iter\": 6,},\n",
    "}\n",
    "\n",
    "sweep_id = wandb.sweep(sweep_config, project=\"RTE - Hyperparameter Optimization\")\n",
    "\n",
    "logging.basicConfig(level=logging.INFO)\n",
    "transformers_logger = logging.getLogger(\"transformers\")\n",
    "transformers_logger.setLevel(logging.WARNING)"
   ]
  },
  {
   "cell_type": "code",
   "execution_count": null,
   "metadata": {
    "id": "4wt_yH8wFmeo"
   },
   "outputs": [],
   "source": [
    "# Model Arguments - \n",
    "model_args = ClassificationArgs()\n",
    "model_args.manual_seed = 42\n",
    "model_args.overwrite_output_dir = True\n",
    "model_args.reprocess_input_data = True\n",
    "model_args.use_multiprocessing = True\n",
    "model_args.evaluate_during_training = True\n",
    "model_args.evaluate_during_training_silent = False\n",
    "model_args.evaluate_during_training_steps = 1000\n",
    "model_args.eval_batch_size = 8\n",
    "model_args.wandb_project = \"RTE - Hyperparameter Optimization\"\n",
    "model_args.learning_rate = 4e-4\n",
    "model_args.num_train_epochs = 10\n",
    "# model_args.use_early_stopping = True -> Tune early_stopping parameters \n",
    "\n",
    "\n",
    "\n",
    "# Model \n",
    "#model = ClassificationModel(model_type='bert', model_name='bert-base-cased', use_cuda=True, num_labels=6, args=model_args)\n",
    "#model = MultiLabelClassificationModel('roberta', 'roberta-base', args={'reprocess_input_data': True})"
   ]
  },
  {
   "cell_type": "code",
   "execution_count": null,
   "metadata": {
    "id": "pPd7StlaQB1K"
   },
   "outputs": [],
   "source": [
    "# This is a test\n",
    "sweep_config = {\n",
    "    \"name\": \"optim param\",\n",
    "    \"method\": \"bayes\",\n",
    "    \"metric\": {\"name\": \"f1\", \"goal\": \"maximize\"},\n",
    "    \"parameters\": {\n",
    "        \"num_train_epochs\": {\"min\": 1, \"max\": 2},\n",
    "    },\n",
    "    \"early_terminate\": {\"type\": \"hyperband\", \"min_iter\": 6,},\n",
    "}\n",
    "\n",
    "sweep_id = wandb.sweep(sweep_config, project=\"RTE - Hyperparameter Optimization\")\n",
    "\n",
    "logging.basicConfig(level=logging.INFO)\n",
    "transformers_logger = logging.getLogger(\"transformers\")\n",
    "transformers_logger.setLevel(logging.WARNING)"
   ]
  },
  {
   "cell_type": "code",
   "execution_count": null,
   "metadata": {
    "id": "YruqdigAOIpP"
   },
   "outputs": [],
   "source": [
    "def train_test():\n",
    "\n",
    "    # Initialize a new wandb run\n",
    "    wandb.init()\n",
    "\n",
    "    # Compute class weights\n",
    "    weights = list(train_df.groupby(['label']).count()['text']/(train_df.shape[0]))\n",
    "\n",
    "    # Create a TransformerModel\n",
    "    model = ClassificationModel(model_type='bert', model_name='bert-base-cased', use_cuda=True, num_labels=6, args=model_args, sweep_config=wandb.config, weight=weights)\n",
    "\n",
    "    # Train the model\n",
    "    model.train_model(\n",
    "        train_df,\n",
    "        eval_df=eval_df,\n",
    "        f1=lambda truth, predictions: f1_score(truth, [round(p) for p in predictions],average='weighted')\n",
    "    )\n",
    "\n",
    "    # Sync wandb\n",
    "    wandb.join()"
   ]
  },
  {
   "cell_type": "code",
   "execution_count": null,
   "metadata": {
    "id": "eK7vmua0P-rf"
   },
   "outputs": [],
   "source": [
    "import time\n",
    "start = time.time()\n",
    "\n",
    "# Run Sweep\n",
    "wandb.agent(sweep_id, train_test)\n",
    "\n",
    "end = time.time()\n",
    "print(end - start)"
   ]
  },
  {
   "cell_type": "code",
   "execution_count": null,
   "metadata": {
    "id": "k083jlns66ew"
   },
   "outputs": [],
   "source": [
    "# Model\n",
    "\n",
    "def train():\n",
    "    # Initialize a new wandb run\n",
    "    wandb.init()\n",
    "\n",
    "    #\n",
    "\n",
    "    # Create a TransformerModel\n",
    "    model = ClassificationModel(model_type='bert', model_name='bert-base-cased', use_cuda=True, num_labels=6, args=model_args, sweep_config=wandb.config,) \n",
    "    # Train the model\n",
    "    model.train_model(\n",
    "        train_df,\n",
    "        eval_df=eval_df,\n",
    "        f1=lambda truth, predictions: f1_score(truth, [round(p) for p in predictions],average='weighted')\n",
    "    )\n",
    "\n",
    "    # Sync wandb\n",
    "    wandb.join()"
   ]
  },
  {
   "cell_type": "code",
   "execution_count": null,
   "metadata": {
    "id": "vwQq9JqN7jD-"
   },
   "outputs": [],
   "source": [
    "import time\n",
    "start = time.time()\n",
    "\n",
    "# Run Sweep\n",
    "wandb.agent(sweep_id, train)\n",
    "\n",
    "end = time.time()\n",
    "print(end - start)"
   ]
  },
  {
   "cell_type": "code",
   "execution_count": null,
   "metadata": {
    "id": "xmJkEiVPHHdn"
   },
   "outputs": [],
   "source": [
    "# Train the model\n",
    "#model.train_model(train_df)"
   ]
  },
  {
   "cell_type": "code",
   "execution_count": null,
   "metadata": {
    "id": "4H6sCxVAUhlg"
   },
   "outputs": [],
   "source": [
    "result, model_outputs, wrong_preds = model.eval_model(validation_df)"
   ]
  },
  {
   "cell_type": "code",
   "execution_count": null,
   "metadata": {
    "id": "qfs8m--3VH-e"
   },
   "outputs": [],
   "source": [
    "from sklearn.metrics import f1_score, accuracy_score\n",
    "\n",
    "def f1_multiclass(labels, preds):\n",
    "    return f1_score(labels, preds, average='micro')\n",
    "\n",
    "result, model_outputs, wrong_predictions = model.eval_model(validation_df, f1=f1_multiclass, acc=accuracy_score)"
   ]
  },
  {
   "cell_type": "code",
   "execution_count": null,
   "metadata": {
    "id": "J3jhtbYlWLir"
   },
   "outputs": [],
   "source": [
    "print(result)"
   ]
  },
  {
   "cell_type": "code",
   "execution_count": null,
   "metadata": {
    "id": "cyIGOIX6WRfI"
   },
   "outputs": [],
   "source": [
    "predictions, raw_outputs = model.predict(['I love rock n roll'])"
   ]
  },
  {
   "cell_type": "code",
   "execution_count": null,
   "metadata": {
    "id": "n8q0pVKZWiha"
   },
   "outputs": [],
   "source": [
    "predictions"
   ]
  },
  {
   "cell_type": "code",
   "execution_count": null,
   "metadata": {
    "id": "U-l9m3bXXQuu"
   },
   "outputs": [],
   "source": []
  },
  {
   "cell_type": "code",
   "execution_count": null,
   "metadata": {
    "id": "XoxfeAjzXRJD"
   },
   "outputs": [],
   "source": []
  }
 ],
 "metadata": {
  "accelerator": "GPU",
  "colab": {
   "collapsed_sections": [],
   "name": "project.ipynb",
   "private_outputs": true,
   "provenance": []
  },
  "kernelspec": {
   "display_name": "Python 3",
   "language": "python",
   "name": "python3"
  },
  "language_info": {
   "codemirror_mode": {
    "name": "ipython",
    "version": 3
   },
   "file_extension": ".py",
   "mimetype": "text/x-python",
   "name": "python",
   "nbconvert_exporter": "python",
   "pygments_lexer": "ipython3",
   "version": "3.7.9"
  }
 },
 "nbformat": 4,
 "nbformat_minor": 1
}
