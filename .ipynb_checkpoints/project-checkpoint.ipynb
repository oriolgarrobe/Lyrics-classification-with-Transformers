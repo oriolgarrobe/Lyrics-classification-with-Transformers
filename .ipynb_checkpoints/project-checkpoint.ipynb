{
 "cells": [
  {
   "cell_type": "code",
   "execution_count": 72,
   "metadata": {},
   "outputs": [],
   "source": [
    "import pandas as pd\n",
    "import zipfile\n",
    "\n",
    "# Loading data to a pandas dataframe\n",
    "with zipfile.ZipFile('data/spotify_songs.csv.zip') as zip:\n",
    "    with zip.open('spotify_songs.csv') as myZip:\n",
    "        df = pd.read_csv(myZip) "
   ]
  },
  {
   "cell_type": "code",
   "execution_count": 73,
   "metadata": {},
   "outputs": [],
   "source": [
    "# Data preprocessing\n",
    "\n",
    "# Filter English songs\n",
    "df = df.loc[df['language'] == 'en']\n",
    "\n",
    "# Filter relevant columns\n",
    "df = df[['track_id', 'track_name', 'track_artist', 'lyrics', 'track_album_name', 'playlist_genre']]"
   ]
  },
  {
   "cell_type": "code",
   "execution_count": 75,
   "metadata": {},
   "outputs": [
    {
     "data": {
      "text/html": [
       "<div>\n",
       "<style scoped>\n",
       "    .dataframe tbody tr th:only-of-type {\n",
       "        vertical-align: middle;\n",
       "    }\n",
       "\n",
       "    .dataframe tbody tr th {\n",
       "        vertical-align: top;\n",
       "    }\n",
       "\n",
       "    .dataframe thead th {\n",
       "        text-align: right;\n",
       "    }\n",
       "</style>\n",
       "<table border=\"1\" class=\"dataframe\">\n",
       "  <thead>\n",
       "    <tr style=\"text-align: right;\">\n",
       "      <th></th>\n",
       "      <th>track_id</th>\n",
       "      <th>track_name</th>\n",
       "      <th>track_artist</th>\n",
       "      <th>lyrics</th>\n",
       "      <th>track_album_name</th>\n",
       "      <th>playlist_genre</th>\n",
       "    </tr>\n",
       "  </thead>\n",
       "  <tbody>\n",
       "    <tr>\n",
       "      <th>1</th>\n",
       "      <td>004s3t0ONYlzxII9PLgU6z</td>\n",
       "      <td>I Feel Alive</td>\n",
       "      <td>Steady Rollin</td>\n",
       "      <td>The trees, are singing in the wind The sky blu...</td>\n",
       "      <td>Love &amp; Loss</td>\n",
       "      <td>rock</td>\n",
       "    </tr>\n",
       "    <tr>\n",
       "      <th>2</th>\n",
       "      <td>00chLpzhgVjxs1zKC9UScL</td>\n",
       "      <td>Poison</td>\n",
       "      <td>Bell Biv DeVoe</td>\n",
       "      <td>NA Yeah, Spyderman and Freeze in full effect U...</td>\n",
       "      <td>Gold</td>\n",
       "      <td>r&amp;b</td>\n",
       "    </tr>\n",
       "    <tr>\n",
       "      <th>3</th>\n",
       "      <td>00cqd6ZsSkLZqGMlQCR0Zo</td>\n",
       "      <td>Baby It's Cold Outside (feat. Christina Aguilera)</td>\n",
       "      <td>CeeLo Green</td>\n",
       "      <td>I really can't stay Baby it's cold outside I'v...</td>\n",
       "      <td>CeeLo's Magic Moment</td>\n",
       "      <td>r&amp;b</td>\n",
       "    </tr>\n",
       "    <tr>\n",
       "      <th>4</th>\n",
       "      <td>00emjlCv9azBN0fzuuyLqy</td>\n",
       "      <td>Dumb Litty</td>\n",
       "      <td>KARD</td>\n",
       "      <td>Get up out of my business You don't keep me fr...</td>\n",
       "      <td>KARD 2nd Digital Single ‘Dumb Litty’</td>\n",
       "      <td>pop</td>\n",
       "    </tr>\n",
       "    <tr>\n",
       "      <th>5</th>\n",
       "      <td>00f9VGHfQhAHMCQ2bSjg3D</td>\n",
       "      <td>Soldier</td>\n",
       "      <td>James TW</td>\n",
       "      <td>Hold your breath, don't look down, keep trying...</td>\n",
       "      <td>Chapters</td>\n",
       "      <td>r&amp;b</td>\n",
       "    </tr>\n",
       "  </tbody>\n",
       "</table>\n",
       "</div>"
      ],
      "text/plain": [
       "                 track_id                                         track_name  \\\n",
       "1  004s3t0ONYlzxII9PLgU6z                                       I Feel Alive   \n",
       "2  00chLpzhgVjxs1zKC9UScL                                             Poison   \n",
       "3  00cqd6ZsSkLZqGMlQCR0Zo  Baby It's Cold Outside (feat. Christina Aguilera)   \n",
       "4  00emjlCv9azBN0fzuuyLqy                                         Dumb Litty   \n",
       "5  00f9VGHfQhAHMCQ2bSjg3D                                            Soldier   \n",
       "\n",
       "     track_artist                                             lyrics  \\\n",
       "1   Steady Rollin  The trees, are singing in the wind The sky blu...   \n",
       "2  Bell Biv DeVoe  NA Yeah, Spyderman and Freeze in full effect U...   \n",
       "3     CeeLo Green  I really can't stay Baby it's cold outside I'v...   \n",
       "4            KARD  Get up out of my business You don't keep me fr...   \n",
       "5        James TW  Hold your breath, don't look down, keep trying...   \n",
       "\n",
       "                       track_album_name playlist_genre  \n",
       "1                           Love & Loss           rock  \n",
       "2                                  Gold            r&b  \n",
       "3                  CeeLo's Magic Moment            r&b  \n",
       "4  KARD 2nd Digital Single ‘Dumb Litty’            pop  \n",
       "5                              Chapters            r&b  "
      ]
     },
     "execution_count": 75,
     "metadata": {},
     "output_type": "execute_result"
    }
   ],
   "source": [
    "df.head()"
   ]
  }
 ],
 "metadata": {
  "kernelspec": {
   "display_name": "Python 3",
   "language": "python",
   "name": "python3"
  },
  "language_info": {
   "codemirror_mode": {
    "name": "ipython",
    "version": 3
   },
   "file_extension": ".py",
   "mimetype": "text/x-python",
   "name": "python",
   "nbconvert_exporter": "python",
   "pygments_lexer": "ipython3",
   "version": "3.7.6"
  }
 },
 "nbformat": 4,
 "nbformat_minor": 4
}
