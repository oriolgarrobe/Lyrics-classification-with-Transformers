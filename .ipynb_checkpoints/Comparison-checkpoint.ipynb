{
 "cells": [
  {
   "cell_type": "code",
   "execution_count": 1,
   "metadata": {},
   "outputs": [],
   "source": [
    "import pandas as pd\n",
    "import numpy as np\n",
    "import zipfile\n",
    "from sklearn.metrics import f1_score\n",
    "import matplotlib.pyplot as plt\n",
    "\n",
    "# Loading data to a pandas dataframe\n",
    "with zipfile.ZipFile('data/archive.zip') as myJson:\n",
    "    with myJson.open('News_Category_Dataset_v2.json') as z:\n",
    "        data = pd.read_json(z, lines=True)"
   ]
  },
  {
   "cell_type": "code",
   "execution_count": 2,
   "metadata": {
    "scrolled": true
   },
   "outputs": [
    {
     "data": {
      "text/html": [
       "<div>\n",
       "<style scoped>\n",
       "    .dataframe tbody tr th:only-of-type {\n",
       "        vertical-align: middle;\n",
       "    }\n",
       "\n",
       "    .dataframe tbody tr th {\n",
       "        vertical-align: top;\n",
       "    }\n",
       "\n",
       "    .dataframe thead th {\n",
       "        text-align: right;\n",
       "    }\n",
       "</style>\n",
       "<table border=\"1\" class=\"dataframe\">\n",
       "  <thead>\n",
       "    <tr style=\"text-align: right;\">\n",
       "      <th></th>\n",
       "      <th>text</th>\n",
       "      <th>label</th>\n",
       "    </tr>\n",
       "  </thead>\n",
       "  <tbody>\n",
       "    <tr>\n",
       "      <th>1</th>\n",
       "      <td>Will Smith Joins Diplo And Nicky Jam For The 2...</td>\n",
       "      <td>0</td>\n",
       "    </tr>\n",
       "    <tr>\n",
       "      <th>2</th>\n",
       "      <td>Hugh Grant Marries For The First Time At Age 5...</td>\n",
       "      <td>0</td>\n",
       "    </tr>\n",
       "    <tr>\n",
       "      <th>3</th>\n",
       "      <td>Jim Carrey Blasts 'Castrato' Adam Schiff And D...</td>\n",
       "      <td>0</td>\n",
       "    </tr>\n",
       "    <tr>\n",
       "      <th>4</th>\n",
       "      <td>Julianna Margulies Uses Donald Trump Poop Bags...</td>\n",
       "      <td>0</td>\n",
       "    </tr>\n",
       "    <tr>\n",
       "      <th>5</th>\n",
       "      <td>Morgan Freeman 'Devastated' That Sexual Harass...</td>\n",
       "      <td>0</td>\n",
       "    </tr>\n",
       "  </tbody>\n",
       "</table>\n",
       "</div>"
      ],
      "text/plain": [
       "                                                text  label\n",
       "1  Will Smith Joins Diplo And Nicky Jam For The 2...      0\n",
       "2  Hugh Grant Marries For The First Time At Age 5...      0\n",
       "3  Jim Carrey Blasts 'Castrato' Adam Schiff And D...      0\n",
       "4  Julianna Margulies Uses Donald Trump Poop Bags...      0\n",
       "5  Morgan Freeman 'Devastated' That Sexual Harass...      0"
      ]
     },
     "execution_count": 2,
     "metadata": {},
     "output_type": "execute_result"
    }
   ],
   "source": [
    "from helper_functions import preprocess\n",
    "df, genres = preprocess(data)\n",
    "df.head()"
   ]
  },
  {
   "cell_type": "code",
   "execution_count": 3,
   "metadata": {},
   "outputs": [
    {
     "data": {
      "text/plain": [
       "{'POLITICS': 0,\n",
       " 'WELLNESS': 1,\n",
       " 'ENTERTAINMENT': 2,\n",
       " 'TRAVEL': 3,\n",
       " 'STYLE & BEAUTY': 4,\n",
       " 'PARENTING': 5}"
      ]
     },
     "execution_count": 3,
     "metadata": {},
     "output_type": "execute_result"
    }
   ],
   "source": [
    "genres"
   ]
  },
  {
   "cell_type": "code",
   "execution_count": 4,
   "metadata": {
    "scrolled": true
   },
   "outputs": [
    {
     "data": {
      "image/png": "[encoded data removed]",
      "text/plain": [
       "<Figure size 432x288 with 1 Axes>"
      ]
     },
     "metadata": {
      "needs_background": "light"
     },
     "output_type": "display_data"
    }
   ],
   "source": [
    "# Visualization of classes\n",
    "colors = ['red', 'deepskyblue', 'orange', 'yellow', 'slateblue', 'olivedrab']\n",
    "\n",
    "\n",
    "df['label'].value_counts().plot(kind='bar', color = colors)\n",
    "plt.xlabel(\"Genre\", labelpad=14)\n",
    "plt.ylabel(\"Count of Articles\", labelpad=14)\n",
    "plt.title(\"Distribution of Articles by Genre\", y=1.02)\n",
    "plt.show()"
   ]
  },
  {
   "cell_type": "code",
   "execution_count": 7,
   "metadata": {},
   "outputs": [],
   "source": [
    "sample_size = [1000, 2000, 4000, 6000, 10000, 15000, 20000, 40000]"
   ]
  },
  {
   "cell_type": "markdown",
   "metadata": {},
   "source": [
    "**Logistic Regression**"
   ]
  },
  {
   "cell_type": "code",
   "execution_count": 5,
   "metadata": {},
   "outputs": [],
   "source": [
    "from sklearn.feature_extraction.text import TfidfVectorizer\n",
    "from sklearn.linear_model import LogisticRegression\n",
    "from sklearn.pipeline import Pipeline\n",
    "\n",
    "# Logistic Regression Model with fine-tuned parameters\n",
    "logistic_regression = Pipeline(steps=[('preprocessor', TfidfVectorizer(stop_words='english',\n",
    "                                                        ngram_range=(1,2),\n",
    "                                                        binary=True)),\n",
    "                                      ('model', LogisticRegression(max_iter=1000,\n",
    "                                                                   class_weight='balanced',\n",
    "                                                                   penalty='l2',\n",
    "                                                                   solver='newton-cg'))])"
   ]
  },
  {
   "cell_type": "code",
   "execution_count": 8,
   "metadata": {},
   "outputs": [],
   "source": [
    "from helper_functions import model_performance\n",
    "import time\n",
    "import json\n",
    "\n",
    "# Logistic Regression\n",
    "\n",
    "lr_performance = {}\n",
    "for n_obs in sample_size:\n",
    "    lr_performance[n_obs]={}\n",
    "    for n_class in range(2,7):\n",
    "        lr_performance[n_obs][n_class]={}\n",
    "        \n",
    "        # Start time\n",
    "        start_time = time.time()\n",
    "        \n",
    "        # Fit, predict, and evaluate model\n",
    "        p, r, f1 = model_performance(logistic_regression, df, n_obs, n_class)\n",
    "        \n",
    "        # End time\n",
    "        end_time = time.time()\n",
    "        \n",
    "        # Fill dict\n",
    "        lr_performance[n_obs][n_class]['p']=p\n",
    "        lr_performance[n_obs][n_class]['r']=r\n",
    "        lr_performance[n_obs][n_class]['f1']=f1\n",
    "        lr_performance[n_obs][n_class]['time']=end_time-start_time\n",
    "        \n",
    "# Save dictionary\n",
    "json_lr = json.dumps(lr_performance)\n",
    "f_lr = open(\"data/lr_performance.json\", \"w\")\n",
    "f_lr.write(json_lr)\n",
    "f_lr.close()"
   ]
  },
  {
   "cell_type": "markdown",
   "metadata": {},
   "source": [
    "**SVM**"
   ]
  },
  {
   "cell_type": "code",
   "execution_count": 6,
   "metadata": {},
   "outputs": [],
   "source": [
    "from sklearn.linear_model import SGDClassifier\n",
    "\n",
    "# Support Vector Machine Model with fine-tuned parameters\n",
    "svm = Pipeline(steps=[('preprocessor', TfidfVectorizer(stop_words='english',\n",
    "                                                       binary=True,\n",
    "                                                       ngram_range=(1,2))),\n",
    "                      ('model', SGDClassifier(max_iter=1000,\n",
    "                                              class_weight='balanced',\n",
    "                                              learning_rate='adaptive',\n",
    "                                              penalty='l2',\n",
    "                                              n_jobs=-1,\n",
    "                                              eta0=0.1))])"
   ]
  },
  {
   "cell_type": "code",
   "execution_count": 9,
   "metadata": {},
   "outputs": [],
   "source": [
    "#SVM\n",
    "\n",
    "svm_performance = {}\n",
    "for n_obs in sample_size:\n",
    "    svm_performance[n_obs]={}\n",
    "    for n_class in range(2,7):\n",
    "        svm_performance[n_obs][n_class]={}\n",
    "        \n",
    "        # Start time\n",
    "        start_time = time.time()\n",
    "        \n",
    "        # Fit, predict, and evaluate model\n",
    "        p, r, f1 = model_performance(svm, df, n_obs, n_class)\n",
    "        \n",
    "        # End time\n",
    "        end_time = time.time()\n",
    "        \n",
    "        # Fill dict\n",
    "        svm_performance[n_obs][n_class]['p']=p\n",
    "        svm_performance[n_obs][n_class]['r']=r\n",
    "        svm_performance[n_obs][n_class]['f1']=f1\n",
    "        svm_performance[n_obs][n_class]['time']=end_time-start_time\n",
    "        \n",
    "# Save dictionary\n",
    "json_svm = json.dumps(svm_performance)\n",
    "f_svm = open(\"data/svm_performance.json\", \"w\")\n",
    "f_svm.write(json_svm)\n",
    "f_svm.close()"
   ]
  },
  {
   "cell_type": "markdown",
   "metadata": {},
   "source": [
    "**Bert Transformer**"
   ]
  },
  {
   "cell_type": "code",
   "execution_count": null,
   "metadata": {},
   "outputs": [],
   "source": [
    "from simpletransformers.classification import ClassificationModel, ClassificationArgs\n",
    "\n",
    "# Model Arguments - \n",
    "model_args = ClassificationArgs()\n",
    "model_args.manual_seed = 42\n",
    "model_args.overwrite_output_dir = True\n",
    "model_args.reprocess_input_data = True\n",
    "model_args.use_multiprocessing = True\n",
    "model_args.num_train_epochs = 2"
   ]
  },
  {
   "cell_type": "code",
   "execution_count": null,
   "metadata": {},
   "outputs": [],
   "source": [
    "from helper_functions import transformer_performance\n",
    "\n",
    "# Transformer model\n",
    "\n",
    "bert_performance={}\n",
    "for n_obs in sample_size:\n",
    "    bert_performance[n_obs]={}\n",
    "    for n_class in range(2,7):\n",
    "        bert_performance[n_obs][n_class]={}\n",
    "        \n",
    "        # Model \n",
    "        model = ClassificationModel(model_type='bert',\n",
    "                                    model_name='bert-base-cased',\n",
    "                                    use_cuda=True, num_labels=n_class,\n",
    "                                    args=model_args)\n",
    "        \n",
    "        # Start time\n",
    "        start_time = time.time()\n",
    "        \n",
    "        # Fit, predict, and evaluate model\n",
    "        p, r, f1 = transformer_performance(model, df, n_obs, n_class)\n",
    "        \n",
    "        # End time\n",
    "        end_time = time.time()\n",
    "        \n",
    "        # Fill dict\n",
    "        bert_performance[n_obs][n_class]['p']=p\n",
    "        bert_performance[n_obs][n_class]['r']=r\n",
    "        bert_performance[n_obs][n_class]['f1']=f1\n",
    "        bert_performance[n_obs][n_class]['time']=end_time-start_time\n",
    "        \n",
    "# Save dictionary\n",
    "json_bert = json.dumps(bert_performance)\n",
    "f_bert = open(\"data/bert_performance.json\", \"w\")\n",
    "f_bert.write(json_bert)\n",
    "f_bert.close()"
   ]
  }
 ],
 "metadata": {
  "kernelspec": {
   "display_name": "Python 3",
   "language": "python",
   "name": "python3"
  },
  "language_info": {
   "codemirror_mode": {
    "name": "ipython",
    "version": 3
   },
   "file_extension": ".py",
   "mimetype": "text/x-python",
   "name": "python",
   "nbconvert_exporter": "python",
   "pygments_lexer": "ipython3",
   "version": "3.7.9"
  }
 },
 "nbformat": 4,
 "nbformat_minor": 2
}
