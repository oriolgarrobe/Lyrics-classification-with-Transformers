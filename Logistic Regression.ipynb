{
 "cells": [
  {
   "cell_type": "markdown",
   "metadata": {},
   "source": [
    "# Logistic Regression for Lyrics Genre Classification"
   ]
  },
  {
   "cell_type": "markdown",
   "metadata": {},
   "source": [
    "Text classification is the task of sorting text documents into predefined classes. "
   ]
  },
  {
   "cell_type": "markdown",
   "metadata": {},
   "source": [
    "## Data set"
   ]
  },
  {
   "cell_type": "markdown",
   "metadata": {},
   "source": [
    "The data bla bla..\n",
    "\n",
    "We start by loading these files into two separate data frames."
   ]
  },
  {
   "cell_type": "code",
   "execution_count": 19,
   "metadata": {},
   "outputs": [],
   "source": [
    "import pandas as pd\n",
    "import numpy as np\n",
    "import zipfile\n",
    "from sklearn.metrics import f1_score\n",
    "from sklearn.model_selection import train_test_split\n",
    "#import bz2\n",
    "\n",
    "# Loading data to a pandas dataframe\n",
    "with zipfile.ZipFile('data/spotify_songs.csv.zip') as zip:\n",
    "    with zip.open('spotify_songs.csv') as myZip:\n",
    "        data = pd.read_csv(myZip) "
   ]
  },
  {
   "cell_type": "markdown",
   "metadata": {},
   "source": [
    "When you inspect the two data frames, you can see that there are three labelled columns: `id` (the official speech ID), `words` (the space-separated words of the speech), and `party` (the party of the speaker, represented by its customary abbreviation)."
   ]
  },
  {
   "cell_type": "code",
   "execution_count": 20,
   "metadata": {},
   "outputs": [
    {
     "data": {
      "text/html": [
       "<div>\n",
       "<style scoped>\n",
       "    .dataframe tbody tr th:only-of-type {\n",
       "        vertical-align: middle;\n",
       "    }\n",
       "\n",
       "    .dataframe tbody tr th {\n",
       "        vertical-align: top;\n",
       "    }\n",
       "\n",
       "    .dataframe thead th {\n",
       "        text-align: right;\n",
       "    }\n",
       "</style>\n",
       "<table border=\"1\" class=\"dataframe\">\n",
       "  <thead>\n",
       "    <tr style=\"text-align: right;\">\n",
       "      <th></th>\n",
       "      <th>text</th>\n",
       "      <th>label</th>\n",
       "    </tr>\n",
       "  </thead>\n",
       "  <tbody>\n",
       "    <tr>\n",
       "      <th>1</th>\n",
       "      <td>The trees, are singing in the wind The sky blu...</td>\n",
       "      <td>0</td>\n",
       "    </tr>\n",
       "    <tr>\n",
       "      <th>2</th>\n",
       "      <td>NA Yeah, Spyderman and Freeze in full effect U...</td>\n",
       "      <td>1</td>\n",
       "    </tr>\n",
       "    <tr>\n",
       "      <th>3</th>\n",
       "      <td>I really can't stay Baby it's cold outside I'v...</td>\n",
       "      <td>1</td>\n",
       "    </tr>\n",
       "    <tr>\n",
       "      <th>4</th>\n",
       "      <td>Get up out of my business You don't keep me fr...</td>\n",
       "      <td>2</td>\n",
       "    </tr>\n",
       "    <tr>\n",
       "      <th>5</th>\n",
       "      <td>Hold your breath, don't look down, keep trying...</td>\n",
       "      <td>1</td>\n",
       "    </tr>\n",
       "  </tbody>\n",
       "</table>\n",
       "</div>"
      ],
      "text/plain": [
       "                                                text  label\n",
       "1  The trees, are singing in the wind The sky blu...      0\n",
       "2  NA Yeah, Spyderman and Freeze in full effect U...      1\n",
       "3  I really can't stay Baby it's cold outside I'v...      1\n",
       "4  Get up out of my business You don't keep me fr...      2\n",
       "5  Hold your breath, don't look down, keep trying...      1"
      ]
     },
     "execution_count": 20,
     "metadata": {},
     "output_type": "execute_result"
    }
   ],
   "source": [
    "from helper_functions import preprocess_lyrics\n",
    "df = preprocess_lyrics(data)\n",
    "df.head()"
   ]
  },
  {
   "cell_type": "markdown",
   "metadata": {},
   "source": [
    "Name of genres in data."
   ]
  },
  {
   "cell_type": "code",
   "execution_count": 21,
   "metadata": {},
   "outputs": [
    {
     "name": "stdout",
     "output_type": "stream",
     "text": [
      "[0, 1, 2, 3, 4, 5]\n"
     ]
    }
   ],
   "source": [
    "genres = sorted(df['label'].unique())\n",
    "print(genres)"
   ]
  },
  {
   "cell_type": "markdown",
   "metadata": {},
   "source": [
    "## Visualization"
   ]
  },
  {
   "cell_type": "code",
   "execution_count": 22,
   "metadata": {},
   "outputs": [
    {
     "data": {
      "image/png": "[encoded data removed]",
      "text/plain": [
       "<Figure size 432x288 with 1 Axes>"
      ]
     },
     "metadata": {
      "needs_background": "light"
     },
     "output_type": "display_data"
    }
   ],
   "source": [
    "import matplotlib.pyplot as plt\n",
    "\n",
    "#party_color = ['red', 'deepskyblue', 'green', 'yellow', 'darkred', 'olivedrab', 'slateblue', 'mediumblue']\n",
    "\n",
    "df['label'].value_counts().plot(kind='bar')\n",
    "plt.xlabel(\"Genre\", labelpad=14)\n",
    "plt.ylabel(\"Count of Songs\", labelpad=14)\n",
    "plt.title(\"Distribution os Songs by Genre\", y=1.02)\n",
    "plt.show()"
   ]
  },
  {
   "cell_type": "code",
   "execution_count": 23,
   "metadata": {},
   "outputs": [
    {
     "name": "stdout",
     "output_type": "stream",
     "text": [
      "(15405, 2)\n",
      "(12324, 2)\n",
      "(3081, 2)\n"
     ]
    }
   ],
   "source": [
    "# Split train and test\n",
    "train_df, test_df = train_test_split(df, test_size=0.2, stratify=df['label'])\n",
    "\n",
    "# Split train and validation\n",
    "print(df.shape)\n",
    "print(train_df.shape)\n",
    "print(test_df.shape)"
   ]
  },
  {
   "cell_type": "markdown",
   "metadata": {},
   "source": [
    "## Train Model"
   ]
  },
  {
   "cell_type": "markdown",
   "metadata": {},
   "source": [
    "### Baseline models"
   ]
  },
  {
   "cell_type": "code",
   "execution_count": 24,
   "metadata": {},
   "outputs": [],
   "source": [
    "# Train model\n",
    "from sklearn.pipeline import Pipeline\n",
    "from sklearn.feature_extraction.text import CountVectorizer\n",
    "from sklearn.linear_model import LogisticRegression\n",
    "from sklearn.metrics import classification_report"
   ]
  },
  {
   "cell_type": "code",
   "execution_count": 25,
   "metadata": {
    "scrolled": true
   },
   "outputs": [
    {
     "name": "stderr",
     "output_type": "stream",
     "text": [
      "/home/oriol/anaconda3/lib/python3.7/site-packages/sklearn/linear_model/_logistic.py:764: ConvergenceWarning: lbfgs failed to converge (status=1):\n",
      "STOP: TOTAL NO. of ITERATIONS REACHED LIMIT.\n",
      "\n",
      "Increase the number of iterations (max_iter) or scale the data as shown in:\n",
      "    https://scikit-learn.org/stable/modules/preprocessing.html\n",
      "Please also refer to the documentation for alternative solver options:\n",
      "    https://scikit-learn.org/stable/modules/linear_model.html#logistic-regression\n",
      "  extra_warning_msg=_LOGISTIC_SOLVER_CONVERGENCE_MSG)\n"
     ]
    },
    {
     "data": {
      "image/png": "[encoded data removed]",
      "text/plain": [
       "<Figure size 432x288 with 2 Axes>"
      ]
     },
     "metadata": {
      "needs_background": "light"
     },
     "output_type": "display_data"
    }
   ],
   "source": [
    "# Logistic Regression with Counter Words Vector representation - Default values kind of thing\n",
    "\n",
    "pipe = Pipeline(steps=[('preprocessor', CountVectorizer(stop_words='english')),\n",
    "                       ('model', LogisticRegression(max_iter=1000,\n",
    "                                                    class_weight='balanced'))])\n",
    "\n",
    "fit_pipe = pipe.fit(train_df['text'], train_df['label'])\n",
    "\n",
    "# TODO: Write code here to solve Problem 5\n",
    "from sklearn.metrics import confusion_matrix, plot_confusion_matrix\n",
    "from numpy import interp\n",
    "\n",
    "plot_confusion_matrix(fit_pipe, test_df['text'], test_df['label'], cmap=plt.cm.Blues)\n",
    "\n",
    "plt.show()"
   ]
  },
  {
   "cell_type": "code",
   "execution_count": 26,
   "metadata": {},
   "outputs": [
    {
     "data": {
      "image/png": "[encoded data removed]",
      "text/plain": [
       "<Figure size 432x288 with 2 Axes>"
      ]
     },
     "metadata": {
      "needs_background": "light"
     },
     "output_type": "display_data"
    }
   ],
   "source": [
    "# Logistic Regression with TF-IDF representation - Default values kind of thing\n",
    "\n",
    "from sklearn.feature_extraction.text import TfidfVectorizer\n",
    "\n",
    "pipe = Pipeline(steps=[('preprocessor', TfidfVectorizer(stop_words='english')),\n",
    "                       ('model', LogisticRegression(max_iter=1000,\n",
    "                                                    class_weight='balanced'))])\n",
    "\n",
    "fit_pipe = pipe.fit(train_df['text'], train_df['label'])\n",
    "\n",
    "# TODO: Write code here to solve Problem 5\n",
    "from sklearn.metrics import confusion_matrix, plot_confusion_matrix\n",
    "from numpy import interp\n",
    "\n",
    "plot_confusion_matrix(fit_pipe, test_df['text'], test_df['label'], cmap=plt.cm.Blues)\n",
    "\n",
    "plt.show()"
   ]
  },
  {
   "cell_type": "markdown",
   "metadata": {},
   "source": [
    "### Grid Search"
   ]
  },
  {
   "cell_type": "markdown",
   "metadata": {
    "scrolled": true
   },
   "source": [
    "# Logistic Regression with Counter Words Vector representation\n",
    "\n",
    "\n",
    "from sklearn.model_selection import GridSearchCV\n",
    "\n",
    "# Hyperparameters values\n",
    "parameters = {'preprocessor__binary':[True, False],\n",
    "              'preprocessor__ngram_range':((1,1),(1,2),(2,2)),\n",
    "              'model__penalty': ('l2','elasticnet'),\n",
    "              'model__solver': ('newton-cg', 'saga')}\n",
    "\n",
    "grid_search = GridSearchCV(pipe, parameters)\n",
    "\n",
    "gs_fit = grid_search.fit(train_df['text'], train_df['label'])\n",
    "\n",
    "best_parameters = grid_search.best_estimator_.get_params()\n",
    "\n",
    "print(\"Best parameters set:\")\n",
    "for param_name in sorted(parameters.keys()):\n",
    "    print(\"\\t%s: %r\" % (param_name, best_parameters[param_name]))"
   ]
  },
  {
   "cell_type": "markdown",
   "metadata": {},
   "source": [
    "### Fine-tuned Models"
   ]
  },
  {
   "cell_type": "markdown",
   "metadata": {},
   "source": [
    "#### Logistic Regression with TF-IDF Vector representation"
   ]
  },
  {
   "cell_type": "code",
   "execution_count": 27,
   "metadata": {},
   "outputs": [
    {
     "data": {
      "image/png": "[encoded data removed]",
      "text/plain": [
       "<Figure size 432x288 with 2 Axes>"
      ]
     },
     "metadata": {
      "needs_background": "light"
     },
     "output_type": "display_data"
    }
   ],
   "source": [
    "# Logistic Regression with TF-IDF representation\n",
    "\n",
    "from sklearn.feature_extraction.text import TfidfVectorizer\n",
    "\n",
    "pipe = Pipeline(steps=[('preprocessor', TfidfVectorizer(stop_words='english',\n",
    "                                                        ngram_range=(1,2),\n",
    "                                                        binary=True)),\n",
    "                       ('model', LogisticRegression(max_iter=1000,\n",
    "                                                    class_weight='balanced',\n",
    "                                                    penalty='l2',\n",
    "                                                    solver='newton-cg'))])\n",
    "\n",
    "fit_pipe = pipe.fit(train_df['text'], train_df['label'])\n",
    "\n",
    "# TODO: Write code here to solve Problem 5\n",
    "from sklearn.metrics import confusion_matrix, plot_confusion_matrix\n",
    "from numpy import interp\n",
    "\n",
    "plot_confusion_matrix(fit_pipe, test_df['text'], test_df['label'], cmap=plt.cm.Blues)\n",
    "\n",
    "plt.show()"
   ]
  },
  {
   "cell_type": "code",
   "execution_count": 28,
   "metadata": {},
   "outputs": [
    {
     "name": "stdout",
     "output_type": "stream",
     "text": [
      "              precision    recall  f1-score   support\n",
      "\n",
      "           0       0.62      0.70      0.66       678\n",
      "           1       0.52      0.54      0.53       632\n",
      "           2       0.47      0.45      0.46       748\n",
      "           3       0.48      0.34      0.40       352\n",
      "           4       0.71      0.80      0.75       500\n",
      "           5       0.22      0.18      0.20       171\n",
      "\n",
      "    accuracy                           0.55      3081\n",
      "   macro avg       0.51      0.50      0.50      3081\n",
      "weighted avg       0.54      0.55      0.54      3081\n",
      "\n"
     ]
    }
   ],
   "source": [
    "preds = fit_pipe.predict(test_df['text'])\n",
    "\n",
    "print(classification_report(test_df['label'], preds, zero_division = 0))"
   ]
  },
  {
   "cell_type": "markdown",
   "metadata": {},
   "source": [
    "## Creating a balanced data set"
   ]
  },
  {
   "cell_type": "markdown",
   "metadata": {},
   "source": [
    "As you saw in Problem&nbsp;1, the distribution of the speeches over the eight different parties (classes) is imbalanced. One technique used to alleviate this is **undersampling**, in which one randomly removes samples from over-represented classes until all classes are represented with the same number of samples.\n",
    "\n",
    "Implement undersampling to create a balanced subset of the training data. Rerun the evaluation from Problem&nbsp;2 on the balanced data and compare the results. Discuss your findings in a short text. Would you argue that undersampling make sense for the task of predicting the party of a speaker?\n",
    "\n",
    "**Hint:** Your balanced subset should consist of 5,752 speeches."
   ]
  },
  {
   "cell_type": "code",
   "execution_count": 29,
   "metadata": {},
   "outputs": [
    {
     "name": "stdout",
     "output_type": "stream",
     "text": [
      "(4116, 2)\n"
     ]
    }
   ],
   "source": [
    "# TODO: Write code here to implement undersampling\n",
    "# Number of observations of the smallest class\n",
    "n_min = min(train_df['label'].value_counts())\n",
    "\n",
    "# Sample n_min observations of each class\n",
    "balanced = train_df.groupby('label').apply(lambda x: x.sample(n=n_min, replace=False))\n",
    "\n",
    "print(balanced.shape)"
   ]
  },
  {
   "cell_type": "markdown",
   "metadata": {},
   "source": [
    "#### LR with TF-IDF / fine-tuned / balanced"
   ]
  },
  {
   "cell_type": "code",
   "execution_count": 30,
   "metadata": {},
   "outputs": [
    {
     "data": {
      "image/png": "[encoded data removed]",
      "text/plain": [
       "<Figure size 432x288 with 2 Axes>"
      ]
     },
     "metadata": {
      "needs_background": "light"
     },
     "output_type": "display_data"
    }
   ],
   "source": [
    "# Logistic Regression with TF-IDF representation\n",
    "\n",
    "from sklearn.feature_extraction.text import TfidfVectorizer\n",
    "\n",
    "pipe = Pipeline(steps=[('preprocessor', TfidfVectorizer(stop_words='english',\n",
    "                                                        ngram_range=(1,2),\n",
    "                                                        binary=True)),\n",
    "                       ('model', LogisticRegression(max_iter=1000,\n",
    "                                                    class_weight='balanced',\n",
    "                                                    penalty='l2',\n",
    "                                                    solver='newton-cg'))])\n",
    "\n",
    "fit_pipe = pipe.fit(train_df['text'], train_df['label'])\n",
    "\n",
    "# TODO: Write code here to solve Problem 5\n",
    "from sklearn.metrics import confusion_matrix, plot_confusion_matrix\n",
    "from numpy import interp\n",
    "\n",
    "plot_confusion_matrix(fit_pipe, test_df['text'], test_df['label'], cmap=plt.cm.Blues)\n",
    "\n",
    "plt.show()"
   ]
  },
  {
   "cell_type": "markdown",
   "metadata": {},
   "source": [
    "## Results"
   ]
  }
 ],
 "metadata": {
  "kernelspec": {
   "display_name": "Python 3",
   "language": "python",
   "name": "python3"
  },
  "language_info": {
   "codemirror_mode": {
    "name": "ipython",
    "version": 3
   },
   "file_extension": ".py",
   "mimetype": "text/x-python",
   "name": "python",
   "nbconvert_exporter": "python",
   "pygments_lexer": "ipython3",
   "version": "3.7.9"
  }
 },
 "nbformat": 4,
 "nbformat_minor": 2
}
