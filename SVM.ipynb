{
 "cells": [
  {
   "cell_type": "markdown",
   "metadata": {},
   "source": [
    "# SVM for Lyrics Genre Classification"
   ]
  },
  {
   "cell_type": "markdown",
   "metadata": {},
   "source": [
    "Text classification is the task of sorting text documents into predefined classes. "
   ]
  },
  {
   "cell_type": "markdown",
   "metadata": {},
   "source": [
    "**Model:**\n",
    "* The model used bla bla..."
   ]
  },
  {
   "cell_type": "markdown",
   "metadata": {},
   "source": [
    "## Data set"
   ]
  },
  {
   "cell_type": "markdown",
   "metadata": {},
   "source": [
    "We start by loading these files into two separate data frames."
   ]
  },
  {
   "cell_type": "code",
   "execution_count": 3,
   "metadata": {},
   "outputs": [],
   "source": [
    "import pandas as pd\n",
    "import numpy as np\n",
    "import zipfile\n",
    "from sklearn.metrics import f1_score\n",
    "from sklearn.model_selection import train_test_split\n",
    "\n",
    "# Loading data to a pandas dataframe\n",
    "with zipfile.ZipFile('data/spotify_songs.csv.zip') as zip:\n",
    "    with zip.open('spotify_songs.csv') as myZip:\n",
    "        data = pd.read_csv(myZip) "
   ]
  },
  {
   "cell_type": "markdown",
   "metadata": {},
   "source": [
    "The dataframe contains two columns:\n",
    "* text: string. Song lyrics.\n",
    "* label: numeric. Music genre."
   ]
  },
  {
   "cell_type": "code",
   "execution_count": 4,
   "metadata": {},
   "outputs": [
    {
     "data": {
      "text/html": [
       "<div>\n",
       "<style scoped>\n",
       "    .dataframe tbody tr th:only-of-type {\n",
       "        vertical-align: middle;\n",
       "    }\n",
       "\n",
       "    .dataframe tbody tr th {\n",
       "        vertical-align: top;\n",
       "    }\n",
       "\n",
       "    .dataframe thead th {\n",
       "        text-align: right;\n",
       "    }\n",
       "</style>\n",
       "<table border=\"1\" class=\"dataframe\">\n",
       "  <thead>\n",
       "    <tr style=\"text-align: right;\">\n",
       "      <th></th>\n",
       "      <th>text</th>\n",
       "      <th>label</th>\n",
       "    </tr>\n",
       "  </thead>\n",
       "  <tbody>\n",
       "    <tr>\n",
       "      <th>1</th>\n",
       "      <td>The trees, are singing in the wind The sky blu...</td>\n",
       "      <td>0</td>\n",
       "    </tr>\n",
       "    <tr>\n",
       "      <th>2</th>\n",
       "      <td>NA Yeah, Spyderman and Freeze in full effect U...</td>\n",
       "      <td>1</td>\n",
       "    </tr>\n",
       "    <tr>\n",
       "      <th>3</th>\n",
       "      <td>I really can't stay Baby it's cold outside I'v...</td>\n",
       "      <td>1</td>\n",
       "    </tr>\n",
       "    <tr>\n",
       "      <th>4</th>\n",
       "      <td>Get up out of my business You don't keep me fr...</td>\n",
       "      <td>2</td>\n",
       "    </tr>\n",
       "    <tr>\n",
       "      <th>5</th>\n",
       "      <td>Hold your breath, don't look down, keep trying...</td>\n",
       "      <td>1</td>\n",
       "    </tr>\n",
       "  </tbody>\n",
       "</table>\n",
       "</div>"
      ],
      "text/plain": [
       "                                                text  label\n",
       "1  The trees, are singing in the wind The sky blu...      0\n",
       "2  NA Yeah, Spyderman and Freeze in full effect U...      1\n",
       "3  I really can't stay Baby it's cold outside I'v...      1\n",
       "4  Get up out of my business You don't keep me fr...      2\n",
       "5  Hold your breath, don't look down, keep trying...      1"
      ]
     },
     "execution_count": 4,
     "metadata": {},
     "output_type": "execute_result"
    }
   ],
   "source": [
    "from helper_functions import preprocess_lyrics\n",
    "df = preprocess_lyrics(data)\n",
    "df.head()"
   ]
  },
  {
   "cell_type": "markdown",
   "metadata": {},
   "source": [
    "## Visualization"
   ]
  },
  {
   "cell_type": "code",
   "execution_count": 5,
   "metadata": {},
   "outputs": [
    {
     "data": {
      "image/png": "[encoded data removed]",
      "text/plain": [
       "<Figure size 432x288 with 1 Axes>"
      ]
     },
     "metadata": {
      "needs_background": "light"
     },
     "output_type": "display_data"
    }
   ],
   "source": [
    "import matplotlib.pyplot as plt\n",
    "\n",
    "df['label'].value_counts().plot(kind='bar')\n",
    "plt.xlabel(\"Genre\", labelpad=14)\n",
    "plt.ylabel(\"Count of Songs\", labelpad=14)\n",
    "plt.title(\"Distribution of Songs by Genre\", y=1.02)\n",
    "plt.show()"
   ]
  },
  {
   "cell_type": "code",
   "execution_count": 6,
   "metadata": {},
   "outputs": [
    {
     "name": "stdout",
     "output_type": "stream",
     "text": [
      "(15405, 2)\n",
      "(12324, 2)\n",
      "(3081, 2)\n"
     ]
    }
   ],
   "source": [
    "# Split train and test\n",
    "train_df, test_df = train_test_split(df, test_size=0.2, stratify=df['label'])\n",
    "\n",
    "# Split train and validation\n",
    "print(df.shape)\n",
    "print(train_df.shape)\n",
    "print(test_df.shape)"
   ]
  },
  {
   "cell_type": "markdown",
   "metadata": {},
   "source": [
    "## Train Model"
   ]
  },
  {
   "cell_type": "markdown",
   "metadata": {},
   "source": [
    "### Baseline models"
   ]
  },
  {
   "cell_type": "code",
   "execution_count": 7,
   "metadata": {},
   "outputs": [],
   "source": [
    "# Train model\n",
    "from sklearn.pipeline import Pipeline\n",
    "from sklearn.feature_extraction.text import CountVectorizer\n",
    "from sklearn.linear_model import SGDClassifier\n",
    "from sklearn.metrics import classification_report\n",
    "from sklearn.metrics import confusion_matrix, plot_confusion_matrix"
   ]
  },
  {
   "cell_type": "code",
   "execution_count": 8,
   "metadata": {
    "scrolled": true
   },
   "outputs": [
    {
     "data": {
      "image/png": "[encoded data removed]",
      "text/plain": [
       "<Figure size 432x288 with 2 Axes>"
      ]
     },
     "metadata": {
      "needs_background": "light"
     },
     "output_type": "display_data"
    }
   ],
   "source": [
    "# SVM with Counter Words Vector representation - Default values\n",
    "\n",
    "# Pipeline\n",
    "pipe = Pipeline(steps=[('preprocessor', CountVectorizer(stop_words='english')),\n",
    "                       ('model', SGDClassifier(max_iter=1000,\n",
    "                                               class_weight='balanced'))])\n",
    "\n",
    "# Fit model\n",
    "fit_pipe = pipe.fit(train_df['text'], train_df['label'])\n",
    "\n",
    "# Plot Confusion Matrix\n",
    "plot_confusion_matrix(fit_pipe, test_df['text'], test_df['label'], cmap=plt.cm.Blues)\n",
    "\n",
    "plt.show()"
   ]
  },
  {
   "cell_type": "code",
   "execution_count": 9,
   "metadata": {},
   "outputs": [
    {
     "name": "stdout",
     "output_type": "stream",
     "text": [
      "              precision    recall  f1-score   support\n",
      "\n",
      "           0       0.53      0.54      0.54       678\n",
      "           1       0.45      0.41      0.43       632\n",
      "           2       0.44      0.36      0.39       748\n",
      "           3       0.31      0.35      0.33       352\n",
      "           4       0.62      0.69      0.65       500\n",
      "           5       0.11      0.16      0.13       171\n",
      "\n",
      "    accuracy                           0.45      3081\n",
      "   macro avg       0.41      0.42      0.41      3081\n",
      "weighted avg       0.46      0.45      0.45      3081\n",
      "\n"
     ]
    }
   ],
   "source": [
    "# Predictions\n",
    "preds = fit_pipe.predict(test_df['text'])\n",
    "\n",
    "print(classification_report(test_df['label'], preds, zero_division = 0))"
   ]
  },
  {
   "cell_type": "code",
   "execution_count": 10,
   "metadata": {
    "scrolled": true
   },
   "outputs": [
    {
     "data": {
      "image/png": "[encoded data removed]",
      "text/plain": [
       "<Figure size 432x288 with 2 Axes>"
      ]
     },
     "metadata": {
      "needs_background": "light"
     },
     "output_type": "display_data"
    }
   ],
   "source": [
    "# SVM with TF-IDF representation - Default values kind of thing\n",
    "\n",
    "from sklearn.feature_extraction.text import TfidfVectorizer\n",
    "\n",
    "# Pipeline\n",
    "pipe = Pipeline(steps=[('preprocessor', TfidfVectorizer(stop_words='english')),\n",
    "                       ('model', SGDClassifier(max_iter=1000,\n",
    "                                               class_weight='balanced'))])\n",
    "\n",
    "# Fit model\n",
    "fit_pipe = pipe.fit(train_df['text'], train_df['label'])\n",
    "\n",
    "# Plot confusion matrix\n",
    "plot_confusion_matrix(fit_pipe, test_df['text'], test_df['label'], cmap=plt.cm.Blues)\n",
    "\n",
    "plt.show()"
   ]
  },
  {
   "cell_type": "code",
   "execution_count": 11,
   "metadata": {
    "scrolled": true
   },
   "outputs": [
    {
     "name": "stdout",
     "output_type": "stream",
     "text": [
      "              precision    recall  f1-score   support\n",
      "\n",
      "           0       0.57      0.61      0.59       678\n",
      "           1       0.50      0.45      0.47       632\n",
      "           2       0.44      0.26      0.32       748\n",
      "           3       0.30      0.41      0.34       352\n",
      "           4       0.64      0.77      0.70       500\n",
      "           5       0.14      0.22      0.17       171\n",
      "\n",
      "    accuracy                           0.47      3081\n",
      "   macro avg       0.43      0.45      0.43      3081\n",
      "weighted avg       0.48      0.47      0.47      3081\n",
      "\n"
     ]
    }
   ],
   "source": [
    "# Predictions\n",
    "preds = fit_pipe.predict(test_df['text'])\n",
    "\n",
    "print(classification_report(test_df['label'], preds, zero_division = 0))"
   ]
  },
  {
   "cell_type": "markdown",
   "metadata": {},
   "source": [
    "**Result:** \n",
    "* The model with the TF-IDF vector representation yielded better results that the one with the Counter vector representation. From this point, the former will be used."
   ]
  },
  {
   "cell_type": "markdown",
   "metadata": {},
   "source": [
    "### Grid Search"
   ]
  },
  {
   "cell_type": "markdown",
   "metadata": {
    "scrolled": true
   },
   "source": [
    "# SVM with TF-IDF representation Vector representation\n",
    "\n",
    "from sklearn.model_selection import GridSearchCV\n",
    "\n",
    "pipe = Pipeline(steps=[('preprocessor', TfidfVectorizer(stop_words='english')),\n",
    "                       ('model', SGDClassifier(max_iter=1000,\n",
    "                                               class_weight='balanced',\n",
    "                                               n_jobs=-1,\n",
    "                                               eta0=0.1))])\n",
    "\n",
    "\n",
    "# Hyperparameters values\n",
    "parameters = {'preprocessor__binary':[True, False],\n",
    "              'preprocessor__ngram_range':((1,2),(2,2)),\n",
    "              'model__penalty': ('l2','elasticnet'),\n",
    "              'model__learning_rate': ('optimal','adaptive')\n",
    "              'model__solver': ('newton-cg', 'saga')}\n",
    "\n",
    "grid_search = GridSearchCV(pipe, parameters, n_jobs=-1)\n",
    "\n",
    "gs_fit = grid_search.fit(train_df['text'], train_df['label'])\n",
    "\n",
    "best_parameters = grid_search.best_estimator_.get_params()\n",
    "\n",
    "print(\"Best parameters set:\")\n",
    "for param_name in sorted(parameters.keys()):\n",
    "    print(\"\\t%s: %r\" % (param_name, best_parameters[param_name]))"
   ]
  },
  {
   "cell_type": "markdown",
   "metadata": {},
   "source": [
    "**Best parameters:**\n",
    "* model_learning_rate: 'adaptive'\n",
    "* model_penalty: 'l2'\n",
    "* preprocessor_binary: True\n",
    "* preprocessor_ngram_range: (1,2)\n",
    "* time: 794s"
   ]
  },
  {
   "cell_type": "markdown",
   "metadata": {},
   "source": [
    "### Fine-tuned Models"
   ]
  },
  {
   "cell_type": "markdown",
   "metadata": {},
   "source": [
    "#### Logistic Regression with TF-IDF Vector representation"
   ]
  },
  {
   "cell_type": "code",
   "execution_count": 12,
   "metadata": {},
   "outputs": [
    {
     "data": {
      "image/png": "[encoded data removed]",
      "text/plain": [
       "<Figure size 432x288 with 2 Axes>"
      ]
     },
     "metadata": {
      "needs_background": "light"
     },
     "output_type": "display_data"
    }
   ],
   "source": [
    "# SVM with TF-IDF Vector - Fine-tuned values\n",
    "\n",
    "# Pipeline\n",
    "pipe = Pipeline(steps=[('preprocessor', TfidfVectorizer(stop_words='english',\n",
    "                                                        binary=True,\n",
    "                                                        ngram_range=(1,2))),\n",
    "                       ('model', SGDClassifier(max_iter=1000,\n",
    "                                               class_weight='balanced',\n",
    "                                               learning_rate='adaptive',\n",
    "                                               penalty='l2',\n",
    "                                               n_jobs=-1,\n",
    "                                               eta0=0.1))])\n",
    "\n",
    "# Fit model\n",
    "fit_pipe = pipe.fit(train_df['text'], train_df['label'])\n",
    "\n",
    "# Plot Confusion Matrix\n",
    "plot_confusion_matrix(fit_pipe, test_df['text'], test_df['label'], cmap=plt.cm.Blues)\n",
    "\n",
    "plt.show()"
   ]
  },
  {
   "cell_type": "code",
   "execution_count": 13,
   "metadata": {
    "scrolled": true
   },
   "outputs": [
    {
     "name": "stdout",
     "output_type": "stream",
     "text": [
      "              precision    recall  f1-score   support\n",
      "\n",
      "           0       0.66      0.72      0.69       678\n",
      "           1       0.54      0.56      0.55       632\n",
      "           2       0.50      0.36      0.42       748\n",
      "           3       0.44      0.39      0.41       352\n",
      "           4       0.64      0.83      0.72       500\n",
      "           5       0.16      0.17      0.16       171\n",
      "\n",
      "    accuracy                           0.55      3081\n",
      "   macro avg       0.49      0.51      0.49      3081\n",
      "weighted avg       0.54      0.55      0.54      3081\n",
      "\n"
     ]
    }
   ],
   "source": [
    "# Predictions\n",
    "preds = fit_pipe.predict(test_df['text'])\n",
    "\n",
    "print(classification_report(test_df['label'], preds, zero_division = 0))"
   ]
  },
  {
   "cell_type": "markdown",
   "metadata": {},
   "source": [
    "**Result:**\n",
    "* With the fine tuned parameters the overall accuracy of the model improved 5 points."
   ]
  },
  {
   "cell_type": "markdown",
   "metadata": {},
   "source": [
    "## Creating a balanced data set"
   ]
  },
  {
   "cell_type": "markdown",
   "metadata": {},
   "source": [
    "The distribution of the 6 different music genres (classes) is imbalanced. Therefore, **undersampling** is used, in which one randomly removes samples from over-represented classes until all classes are represented with the same number of samples."
   ]
  },
  {
   "cell_type": "code",
   "execution_count": 14,
   "metadata": {},
   "outputs": [
    {
     "name": "stdout",
     "output_type": "stream",
     "text": [
      "(4116, 2)\n"
     ]
    }
   ],
   "source": [
    "# Number of observations of the smallest class\n",
    "n_min = min(train_df['label'].value_counts())\n",
    "\n",
    "# Sample n_min observations of each class\n",
    "balanced = train_df.groupby('label').apply(lambda x: x.sample(n=n_min, replace=False))\n",
    "\n",
    "print(balanced.shape)"
   ]
  },
  {
   "cell_type": "markdown",
   "metadata": {},
   "source": [
    "#### LR with TF-IDF / fine-tuned / balanced"
   ]
  },
  {
   "cell_type": "code",
   "execution_count": 15,
   "metadata": {},
   "outputs": [
    {
     "data": {
      "image/png": "[encoded data removed]",
      "text/plain": [
       "<Figure size 432x288 with 2 Axes>"
      ]
     },
     "metadata": {
      "needs_background": "light"
     },
     "output_type": "display_data"
    }
   ],
   "source": [
    "# SVM with TF-IDF Vector - Fine-tuned values\n",
    "\n",
    "# Pipeline\n",
    "pipe = Pipeline(steps=[('preprocessor', TfidfVectorizer(stop_words='english',\n",
    "                                                        binary=True,\n",
    "                                                        ngram_range=(1,2))),\n",
    "                       ('model', SGDClassifier(max_iter=1000,\n",
    "                                               class_weight='balanced',\n",
    "                                               learning_rate='adaptive',\n",
    "                                               penalty='l2',\n",
    "                                               n_jobs=-1,\n",
    "                                               eta0=0.1))])\n",
    "\n",
    "# Fit model\n",
    "fit_pipe = pipe.fit(balanced['text'], balanced['label'])\n",
    "\n",
    "# Plot confusion matrix\n",
    "plot_confusion_matrix(fit_pipe, test_df['text'], test_df['label'], cmap=plt.cm.Blues)\n",
    "\n",
    "plt.show()"
   ]
  },
  {
   "cell_type": "code",
   "execution_count": 16,
   "metadata": {
    "scrolled": true
   },
   "outputs": [
    {
     "name": "stdout",
     "output_type": "stream",
     "text": [
      "              precision    recall  f1-score   support\n",
      "\n",
      "           0       0.59      0.55      0.57       678\n",
      "           1       0.50      0.49      0.49       632\n",
      "           2       0.42      0.29      0.34       748\n",
      "           3       0.38      0.37      0.38       352\n",
      "           4       0.67      0.82      0.74       500\n",
      "           5       0.13      0.27      0.17       171\n",
      "\n",
      "    accuracy                           0.48      3081\n",
      "   macro avg       0.45      0.46      0.45      3081\n",
      "weighted avg       0.49      0.48      0.48      3081\n",
      "\n"
     ]
    }
   ],
   "source": [
    "# Predictions\n",
    "preds = fit_pipe.predict(test_df['text'])\n",
    "\n",
    "print(classification_report(test_df['label'], preds, zero_division = 0))"
   ]
  },
  {
   "cell_type": "markdown",
   "metadata": {},
   "source": [
    "**Results:**\n",
    "- With the balanced dataset the results is worse. This is due the amount of data is very small and to train the model properly it is necessary more data. "
   ]
  },
  {
   "cell_type": "markdown",
   "metadata": {},
   "source": [
    "## Final Results"
   ]
  },
  {
   "cell_type": "markdown",
   "metadata": {},
   "source": [
    "The optimal model chosen is the SVM with a TF-IDF representation trained on all the imbalanced dataset. The results obtained are:"
   ]
  },
  {
   "cell_type": "code",
   "execution_count": 17,
   "metadata": {},
   "outputs": [],
   "source": [
    "# Optimal model\n"
   ]
  }
 ],
 "metadata": {
  "kernelspec": {
   "display_name": "Python 3",
   "language": "python",
   "name": "python3"
  },
  "language_info": {
   "codemirror_mode": {
    "name": "ipython",
    "version": 3
   },
   "file_extension": ".py",
   "mimetype": "text/x-python",
   "name": "python",
   "nbconvert_exporter": "python",
   "pygments_lexer": "ipython3",
   "version": "3.7.9"
  }
 },
 "nbformat": 4,
 "nbformat_minor": 2
}
